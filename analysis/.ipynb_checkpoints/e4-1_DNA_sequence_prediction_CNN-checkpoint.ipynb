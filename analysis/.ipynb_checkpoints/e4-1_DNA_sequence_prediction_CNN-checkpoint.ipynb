{
 "cells": [
  {
   "cell_type": "markdown",
   "id": "e5aff225",
   "metadata": {},
   "source": [
    "# Before the class"
   ]
  },
  {
   "cell_type": "markdown",
   "id": "a72ebe63",
   "metadata": {},
   "source": [
    "Set up a jupyter notebook on the Discovery HPC cluster following instructions here: https://services.dartmouth.edu/TDClient/1806/Portal/KB/ArticleDet?ID=124517."
   ]
  },
  {
   "cell_type": "markdown",
   "id": "991d1bd7",
   "metadata": {},
   "source": [
    "Install pytorch on discovery"
   ]
  },
  {
   "cell_type": "markdown",
   "id": "3ac12b4e",
   "metadata": {},
   "source": [
    "`pip3 install torch torchvision torchaudio --index-url https://download.pytorch.org/whl/cpu`"
   ]
  },
  {
   "cell_type": "markdown",
   "id": "a773ba24",
   "metadata": {},
   "source": [
    "Download simulated data: sequences and their corresponding labels."
   ]
  },
  {
   "cell_type": "markdown",
   "id": "6d4a44bb",
   "metadata": {},
   "source": [
    "* sequences"
   ]
  },
  {
   "cell_type": "code",
   "execution_count": 1,
   "id": "2654bb4f",
   "metadata": {},
   "outputs": [
    {
     "data": {
      "text/html": [
       "<div>\n",
       "<style scoped>\n",
       "    .dataframe tbody tr th:only-of-type {\n",
       "        vertical-align: middle;\n",
       "    }\n",
       "\n",
       "    .dataframe tbody tr th {\n",
       "        vertical-align: top;\n",
       "    }\n",
       "\n",
       "    .dataframe thead th {\n",
       "        text-align: right;\n",
       "    }\n",
       "</style>\n",
       "<table border=\"1\" class=\"dataframe\">\n",
       "  <thead>\n",
       "    <tr style=\"text-align: right;\">\n",
       "      <th></th>\n",
       "      <th>Sequences</th>\n",
       "    </tr>\n",
       "  </thead>\n",
       "  <tbody>\n",
       "    <tr>\n",
       "      <th>1</th>\n",
       "      <td>CCGAGGGCTATGGTTTGGAAGTTAGAACCCTGGGGCTTCTCGCGGA...</td>\n",
       "    </tr>\n",
       "    <tr>\n",
       "      <th>2</th>\n",
       "      <td>GAGTTTATATGGCGCGAGCCTAGTGGTTTTTGTACTTGTTTGTCGC...</td>\n",
       "    </tr>\n",
       "    <tr>\n",
       "      <th>3</th>\n",
       "      <td>GATCAGTAGGGAAACAAACAGAGGGCCCAGCCACATCTAGCAGGTA...</td>\n",
       "    </tr>\n",
       "    <tr>\n",
       "      <th>4</th>\n",
       "      <td>GTCCACGACCGAACTCCCACCTTGACCGCAGAGGTACCACCAGAGC...</td>\n",
       "    </tr>\n",
       "    <tr>\n",
       "      <th>5</th>\n",
       "      <td>GGCGACCGAACTCCAACTAGAACCTGCATAACTGGCCTGGGAGATA...</td>\n",
       "    </tr>\n",
       "  </tbody>\n",
       "</table>\n",
       "</div>"
      ],
      "text/plain": [
       "                                           Sequences\n",
       "1  CCGAGGGCTATGGTTTGGAAGTTAGAACCCTGGGGCTTCTCGCGGA...\n",
       "2  GAGTTTATATGGCGCGAGCCTAGTGGTTTTTGTACTTGTTTGTCGC...\n",
       "3  GATCAGTAGGGAAACAAACAGAGGGCCCAGCCACATCTAGCAGGTA...\n",
       "4  GTCCACGACCGAACTCCCACCTTGACCGCAGAGGTACCACCAGAGC...\n",
       "5  GGCGACCGAACTCCAACTAGAACCTGCATAACTGGCCTGGGAGATA..."
      ]
     },
     "execution_count": 1,
     "metadata": {},
     "output_type": "execute_result"
    }
   ],
   "source": [
    "import numpy as np\n",
    "import pandas as pd\n",
    "import matplotlib.pyplot as plt\n",
    "import requests\n",
    "\n",
    "SEQUENCES_URL = 'https://raw.githubusercontent.com/abidlabs/deep-learning-genomics-primer/master/sequences.txt'\n",
    "\n",
    "sequences = requests.get(SEQUENCES_URL).text.split('\\n')\n",
    "sequences = list(filter(None, sequences))  # This removes empty sequences.\n",
    "\n",
    "# Let's print the first few sequences.\n",
    "pd.DataFrame(sequences, index=np.arange(1, len(sequences)+1), \n",
    "             columns=['Sequences']).head()"
   ]
  },
  {
   "cell_type": "code",
   "execution_count": 2,
   "id": "720f1c76",
   "metadata": {},
   "outputs": [
    {
     "data": {
      "text/plain": [
       "2000"
      ]
     },
     "execution_count": 2,
     "metadata": {},
     "output_type": "execute_result"
    }
   ],
   "source": [
    "len(sequences)"
   ]
  },
  {
   "cell_type": "markdown",
   "id": "42c5caef",
   "metadata": {},
   "source": [
    "* labels"
   ]
  },
  {
   "cell_type": "code",
   "execution_count": 3,
   "id": "461ae265",
   "metadata": {},
   "outputs": [
    {
     "data": {
      "text/html": [
       "<div>\n",
       "<style scoped>\n",
       "    .dataframe tbody tr th:only-of-type {\n",
       "        vertical-align: middle;\n",
       "    }\n",
       "\n",
       "    .dataframe tbody tr th {\n",
       "        vertical-align: top;\n",
       "    }\n",
       "\n",
       "    .dataframe thead th {\n",
       "        text-align: right;\n",
       "    }\n",
       "</style>\n",
       "<table border=\"1\" class=\"dataframe\">\n",
       "  <thead>\n",
       "    <tr style=\"text-align: right;\">\n",
       "      <th></th>\n",
       "      <th>labels</th>\n",
       "    </tr>\n",
       "  </thead>\n",
       "  <tbody>\n",
       "    <tr>\n",
       "      <th>1</th>\n",
       "      <td>0</td>\n",
       "    </tr>\n",
       "    <tr>\n",
       "      <th>2</th>\n",
       "      <td>0</td>\n",
       "    </tr>\n",
       "    <tr>\n",
       "      <th>3</th>\n",
       "      <td>0</td>\n",
       "    </tr>\n",
       "    <tr>\n",
       "      <th>4</th>\n",
       "      <td>1</td>\n",
       "    </tr>\n",
       "    <tr>\n",
       "      <th>5</th>\n",
       "      <td>1</td>\n",
       "    </tr>\n",
       "  </tbody>\n",
       "</table>\n",
       "</div>"
      ],
      "text/plain": [
       "  labels\n",
       "1      0\n",
       "2      0\n",
       "3      0\n",
       "4      1\n",
       "5      1"
      ]
     },
     "execution_count": 3,
     "metadata": {},
     "output_type": "execute_result"
    }
   ],
   "source": [
    "LABELS_URL = 'https://raw.githubusercontent.com/abidlabs/deep-learning-genomics-primer/master/labels.txt'\n",
    "\n",
    "labels = requests.get(LABELS_URL).text.split('\\n')\n",
    "labels = list(filter(None, labels))  # removes empty sequences\n",
    "\n",
    "# Let's print the first few labels.\n",
    "pd.DataFrame(labels, index=np.arange(1, len(labels)+1), \n",
    "             columns=['labels']).head()"
   ]
  },
  {
   "cell_type": "code",
   "execution_count": 4,
   "id": "6950f36c",
   "metadata": {},
   "outputs": [
    {
     "name": "stdout",
     "output_type": "stream",
     "text": [
      "Number of '0's: 1013\n",
      "Number of '1's: 987\n"
     ]
    }
   ],
   "source": [
    "# Count the number of 0s and 1s\n",
    "print(\"Number of '0's: {}\".format(labels.count('0')))\n",
    "print(\"Number of '1's: {}\".format(labels.count('1')))"
   ]
  },
  {
   "cell_type": "markdown",
   "id": "08fb6e42",
   "metadata": {},
   "source": [
    "# Train a convolutional neural network to predict protein binding"
   ]
  },
  {
   "cell_type": "markdown",
   "id": "6cb3ee83",
   "metadata": {},
   "source": [
    "The following tutorial is adapted from https://github.com/abidlabs/deep-learning-genomics-primer. \n",
    "\n",
    "\n",
    "See accompanying paper: Zou, J. et al. A primer on deep learning in genomics. Nat. Genet. 51, 12–18 (2019).\n",
    "  \n"
   ]
  },
  {
   "cell_type": "markdown",
   "id": "b933c16c",
   "metadata": {},
   "source": [
    "**Overview**: we will design a neural network that can discover binding motifs in DNA based on the results of an assay that determines whether a longer DNA sequence binds to the protein or not. Here, the longer DNA sequences are our independent variables (or predictors), while the positive or negative response of the assay is the dependent variable (or response)."
   ]
  },
  {
   "cell_type": "markdown",
   "id": "b0688b52",
   "metadata": {},
   "source": [
    "![alternatvie text](https://camo.githubusercontent.com/66ca330dec8af29091cda75e89f32dfb29c67c99cd7eb76b57b54c3f685d58dc/68747470733a2f2f6769746875622e636f6d2f616269646c6162732f646565702d6c6561726e696e672d67656e6f6d6963732d7072696d65722f626c6f622f6d61737465722f53637265656e73686f7425323066726f6d253230323031382d30382d303125323032302d33312d30312e706e673f7261773d74727565)"
   ]
  },
  {
   "cell_type": "markdown",
   "id": "8225490c",
   "metadata": {},
   "source": [
    "**Data**: We will use simulated data that consists of DNA sequences of length 50 bases (chosen to be artificially short so that the data is easy to play around with), and is labeled with 0 or 1 depending on the result of the assay. Our goal is to build a classifier that can predict whether a particular sequence will bind to the protein and discover the short motif that is the binding site in the sequences that are bound to the protein."
   ]
  },
  {
   "cell_type": "markdown",
   "id": "5b820b23",
   "metadata": {},
   "source": [
    "## Data processing"
   ]
  },
  {
   "cell_type": "markdown",
   "id": "78e135f6",
   "metadata": {},
   "source": [
    "We first need to transform our data to a format that can be used by the deep learning algorithm. \n",
    "* We use one hot encoding for DNA sequences. "
   ]
  },
  {
   "cell_type": "code",
   "execution_count": 5,
   "id": "bb1ee92f",
   "metadata": {},
   "outputs": [],
   "source": [
    "\n",
    "import torch\n",
    "import torch.nn as nn\n",
    "import torch.optim as optim\n",
    "import torch.nn.functional as F\n",
    "from torch.utils.data import DataLoader, TensorDataset\n",
    "from sklearn.model_selection import train_test_split"
   ]
  },
  {
   "cell_type": "code",
   "execution_count": 6,
   "id": "2d6cb223",
   "metadata": {},
   "outputs": [
    {
     "name": "stdout",
     "output_type": "stream",
     "text": [
      "One-hot encoded sequences (training):\n",
      "tensor([[[0., 1., 0., 0.],\n",
      "         [1., 0., 0., 0.],\n",
      "         [1., 0., 0., 0.],\n",
      "         ...,\n",
      "         [0., 0., 0., 1.],\n",
      "         [1., 0., 0., 0.],\n",
      "         [1., 0., 0., 0.]],\n",
      "\n",
      "        [[0., 0., 1., 0.],\n",
      "         [0., 0., 1., 0.],\n",
      "         [0., 1., 0., 0.],\n",
      "         ...,\n",
      "         [0., 0., 0., 1.],\n",
      "         [0., 0., 1., 0.],\n",
      "         [0., 0., 0., 1.]],\n",
      "\n",
      "        [[0., 1., 0., 0.],\n",
      "         [0., 0., 1., 0.],\n",
      "         [0., 1., 0., 0.],\n",
      "         ...,\n",
      "         [1., 0., 0., 0.],\n",
      "         [0., 0., 0., 1.],\n",
      "         [0., 1., 0., 0.]],\n",
      "\n",
      "        ...,\n",
      "\n",
      "        [[0., 1., 0., 0.],\n",
      "         [1., 0., 0., 0.],\n",
      "         [0., 1., 0., 0.],\n",
      "         ...,\n",
      "         [1., 0., 0., 0.],\n",
      "         [0., 0., 1., 0.],\n",
      "         [0., 0., 0., 1.]],\n",
      "\n",
      "        [[0., 1., 0., 0.],\n",
      "         [0., 1., 0., 0.],\n",
      "         [0., 1., 0., 0.],\n",
      "         ...,\n",
      "         [0., 1., 0., 0.],\n",
      "         [0., 0., 1., 0.],\n",
      "         [0., 1., 0., 0.]],\n",
      "\n",
      "        [[0., 1., 0., 0.],\n",
      "         [0., 0., 1., 0.],\n",
      "         [0., 0., 0., 1.],\n",
      "         ...,\n",
      "         [1., 0., 0., 0.],\n",
      "         [0., 0., 1., 0.],\n",
      "         [1., 0., 0., 0.]]])\n",
      "Encoded binary labels (training):\n",
      "tensor([0, 1, 0,  ..., 0, 0, 1])\n"
     ]
    }
   ],
   "source": [
    "# One-hot encoding function for DNA sequences\n",
    "def one_hot_encode_sequence(sequence):\n",
    "    mapping = {'A': [1, 0, 0, 0],\n",
    "               'C': [0, 1, 0, 0],\n",
    "               'G': [0, 0, 1, 0],\n",
    "               'T': [0, 0, 0, 1]}\n",
    "    return np.array([mapping[base] for base in sequence])\n",
    "\n",
    "# Encode all sequences\n",
    "encoded_sequences = np.array([one_hot_encode_sequence(seq) for seq in sequences])\n",
    "\n",
    "# Convert labels from strings to integers\n",
    "encoded_labels = np.array([int(label) for label in labels])\n",
    "\n",
    "# Split into training and testing sets\n",
    "X_train, X_test, y_train, y_test = train_test_split(encoded_sequences, encoded_labels, test_size=0.2, random_state=42)\n",
    "\n",
    "# Convert to PyTorch tensors\n",
    "X_train_tensor = torch.tensor(X_train, dtype=torch.float32)\n",
    "X_test_tensor = torch.tensor(X_test, dtype=torch.float32)\n",
    "y_train_tensor = torch.tensor(y_train, dtype=torch.long)\n",
    "y_test_tensor = torch.tensor(y_test, dtype=torch.long)\n",
    "\n",
    "# Print to verify\n",
    "print(\"One-hot encoded sequences (training):\")\n",
    "print(X_train_tensor)\n",
    "print(\"Encoded binary labels (training):\")\n",
    "print(y_train_tensor)\n"
   ]
  },
  {
   "cell_type": "markdown",
   "id": "e82cd1c8",
   "metadata": {},
   "source": [
    "## Model training"
   ]
  },
  {
   "cell_type": "markdown",
   "id": "e9bd28e7",
   "metadata": {},
   "source": [
    "Model archtecture summary: \n",
    "\n",
    "Input: (batch_size, 100, 4)  # 100 bases, 4 channels (A, C, G, T)\n",
    "\n",
    "→ Conv1D(4 → 32 filters, kernel_size=12)\n",
    "\n",
    "→ MaxPool1D(kernel_size=4)\n",
    "\n",
    "→ Flatten\n",
    "\n",
    "→ Dense(16 units, ReLU)\n",
    "\n",
    "→ Dense(2 units, Softmax)\n"
   ]
  },
  {
   "cell_type": "code",
   "execution_count": 7,
   "id": "21494594",
   "metadata": {},
   "outputs": [],
   "source": [
    "# Define the 1D CNN model\n",
    "class Conv1DModel(nn.Module):\n",
    "    def __init__(self, input_length):\n",
    "        super(Conv1DModel, self).__init__()\n",
    "        self.conv1 = nn.Conv1d(in_channels=4, out_channels=32, kernel_size=12)\n",
    "        self.pool = nn.MaxPool1d(kernel_size=4)\n",
    "        conv_output_length = input_length - 12 + 1\n",
    "        pooled_length = conv_output_length // 4\n",
    "        self.flattened_size = 32 * pooled_length\n",
    "        self.fc1 = nn.Linear(self.flattened_size, 16)\n",
    "        self.fc2 = nn.Linear(16, 2)\n",
    "        \n",
    "    def forward(self, x):\n",
    "        x = x.permute(0, 2, 1) # (batch_size, channels, sequence_length)\n",
    "        x = F.relu(self.conv1(x))\n",
    "        x = self.pool(x)\n",
    "        x = x.view(-1, self.flattened_size)\n",
    "        x = F.relu(self.fc1(x))\n",
    "        x = F.softmax(self.fc2(x), dim=1)\n",
    "        return x"
   ]
  },
  {
   "cell_type": "code",
   "execution_count": 8,
   "id": "4770bb81",
   "metadata": {},
   "outputs": [
    {
     "name": "stdout",
     "output_type": "stream",
     "text": [
      "Epoch 1, Train Loss: 0.6800, Val Loss: 0.6467, Val Accuracy: 0.7775\n",
      "Epoch 2, Train Loss: 0.5928, Val Loss: 0.5238, Val Accuracy: 0.8250\n",
      "Epoch 3, Train Loss: 0.4766, Val Loss: 0.4487, Val Accuracy: 0.8800\n",
      "Epoch 4, Train Loss: 0.4156, Val Loss: 0.4090, Val Accuracy: 0.9275\n",
      "Epoch 5, Train Loss: 0.3873, Val Loss: 0.3750, Val Accuracy: 0.9650\n",
      "Epoch 6, Train Loss: 0.3623, Val Loss: 0.3633, Val Accuracy: 0.9650\n",
      "Epoch 7, Train Loss: 0.3505, Val Loss: 0.3549, Val Accuracy: 0.9725\n",
      "Epoch 8, Train Loss: 0.3417, Val Loss: 0.3498, Val Accuracy: 0.9700\n",
      "Epoch 9, Train Loss: 0.3352, Val Loss: 0.3500, Val Accuracy: 0.9800\n",
      "Epoch 10, Train Loss: 0.3311, Val Loss: 0.3489, Val Accuracy: 0.9800\n",
      "Epoch 11, Train Loss: 0.3286, Val Loss: 0.3441, Val Accuracy: 0.9825\n",
      "Epoch 12, Train Loss: 0.3260, Val Loss: 0.3365, Val Accuracy: 0.9825\n",
      "Epoch 13, Train Loss: 0.3233, Val Loss: 0.3387, Val Accuracy: 0.9775\n",
      "Epoch 14, Train Loss: 0.3205, Val Loss: 0.3333, Val Accuracy: 0.9875\n",
      "Epoch 15, Train Loss: 0.3192, Val Loss: 0.3324, Val Accuracy: 0.9875\n",
      "Epoch 16, Train Loss: 0.3183, Val Loss: 0.3315, Val Accuracy: 0.9875\n",
      "Epoch 17, Train Loss: 0.3178, Val Loss: 0.3310, Val Accuracy: 0.9875\n",
      "Epoch 18, Train Loss: 0.3174, Val Loss: 0.3307, Val Accuracy: 0.9875\n",
      "Epoch 19, Train Loss: 0.3170, Val Loss: 0.3299, Val Accuracy: 0.9875\n",
      "Epoch 20, Train Loss: 0.3167, Val Loss: 0.3295, Val Accuracy: 0.9875\n"
     ]
    },
    {
     "data": {
      "image/png": "[encoded data removed]",
      "text/plain": [
       "<Figure size 1200x400 with 2 Axes>"
      ]
     },
     "metadata": {},
     "output_type": "display_data"
    }
   ],
   "source": [
    "from torch.utils.data import TensorDataset, DataLoader, random_split\n",
    "import matplotlib.pyplot as plt\n",
    "\n",
    "\n",
    "# Create dataset and split into training and validation sets\n",
    "dataset = TensorDataset(X_train_tensor, y_train_tensor)\n",
    "val_size = int(0.25 * len(dataset))\n",
    "train_size = len(dataset) - val_size\n",
    "train_dataset, val_dataset = random_split(dataset, [train_size, val_size])\n",
    "\n",
    "# Create data loaders\n",
    "train_loader = DataLoader(train_dataset, batch_size=32, shuffle=True)\n",
    "val_loader = DataLoader(val_dataset, batch_size=32)\n",
    "\n",
    "# Initialize model\n",
    "model = Conv1DModel(input_length=X_train_tensor.shape[1])\n",
    "criterion = nn.CrossEntropyLoss()\n",
    "optimizer = optim.Adam(model.parameters(), lr=0.001)\n",
    "\n",
    "\n",
    "# Initialize lists to store history\n",
    "train_losses = []\n",
    "val_losses = []\n",
    "val_accuracies = []\n",
    "\n",
    "# Training loop\n",
    "for epoch in range(20):\n",
    "    model.train()\n",
    "    running_loss = 0.0\n",
    "    for batch_X, batch_y in train_loader:\n",
    "        optimizer.zero_grad()\n",
    "        outputs = model(batch_X)\n",
    "        loss = criterion(outputs, batch_y)\n",
    "        loss.backward()\n",
    "        optimizer.step()\n",
    "        running_loss += loss.item()\n",
    "    \n",
    "    train_losses.append(running_loss / len(train_loader))\n",
    "\n",
    "    # Validation loop\n",
    "    model.eval()\n",
    "    val_loss = 0\n",
    "    correct = 0\n",
    "    with torch.no_grad():\n",
    "        for val_X, val_y in val_loader:\n",
    "            val_outputs = model(val_X)\n",
    "            val_loss += criterion(val_outputs, val_y).item()\n",
    "            pred = val_outputs.argmax(dim=1)\n",
    "            correct += (pred == val_y).sum().item()\n",
    "    val_losses.append(val_loss / len(val_loader))\n",
    "    val_accuracies.append(correct / len(val_dataset))\n",
    "    print(f\"Epoch {epoch+1}, Train Loss: {train_losses[-1]:.4f}, Val Loss: {val_losses[-1]:.4f}, Val Accuracy: {val_accuracies[-1]:.4f}\")\n",
    "\n",
    "# Plotting the training history\n",
    "plt.figure(figsize=(12, 4))\n",
    "plt.subplot(1, 2, 1)\n",
    "plt.plot(train_losses, label='Train Loss')\n",
    "plt.plot(val_losses, label='Validation Loss')\n",
    "plt.xlabel('Epochs')\n",
    "plt.ylabel('Loss')\n",
    "plt.legend()\n",
    "plt.title('Training and Validation Loss')\n",
    "\n",
    "plt.subplot(1, 2, 2)\n",
    "plt.plot(val_accuracies, label='Validation Accuracy')\n",
    "plt.xlabel('Epochs')\n",
    "plt.ylabel('Accuracy')\n",
    "plt.legend()\n",
    "plt.title('Validation Accuracy')\n",
    "\n",
    "plt.show()"
   ]
  },
  {
   "cell_type": "markdown",
   "id": "7a05d8df",
   "metadata": {},
   "source": [
    "## Prediction for new data"
   ]
  },
  {
   "cell_type": "code",
   "execution_count": 9,
   "id": "3b1f0dbf",
   "metadata": {},
   "outputs": [
    {
     "data": {
      "text/plain": [
       "tensor([[1.0086e-04, 9.9990e-01]], grad_fn=<SoftmaxBackward0>)"
      ]
     },
     "execution_count": 9,
     "metadata": {},
     "output_type": "execute_result"
    }
   ],
   "source": [
    "# predict for the first sequence in test set\n",
    "model(X_test_tensor[0].unsqueeze(0))"
   ]
  },
  {
   "cell_type": "markdown",
   "id": "7d495540",
   "metadata": {},
   "source": [
    "Predict for all sequences in test set and see how good it is."
   ]
  },
  {
   "cell_type": "code",
   "execution_count": 10,
   "id": "0d942120",
   "metadata": {},
   "outputs": [
    {
     "name": "stdout",
     "output_type": "stream",
     "text": [
      "Confusion matrix:\n",
      " [[  1 204]\n",
      " [195   0]]\n"
     ]
    },
    {
     "data": {
      "image/png": "[encoded data removed]",
      "text/plain": [
       "<Figure size 640x480 with 2 Axes>"
      ]
     },
     "metadata": {},
     "output_type": "display_data"
    }
   ],
   "source": [
    "from sklearn.metrics import confusion_matrix\n",
    "import itertools\n",
    "\n",
    "predicted_labels = model(X_test_tensor)\n",
    "predicted_labels = predicted_labels[:,0].detach().numpy()\n",
    "predicted_labels[predicted_labels> 0.5] = 1 \n",
    "predicted_labels[predicted_labels<= 0.5] = 0 \n",
    "cm = confusion_matrix(y_test_tensor.detach().numpy(), predicted_labels)\n",
    "print('Confusion matrix:\\n',cm)\n",
    "\n",
    "cm = cm.astype('float') / cm.sum(axis = 1)[:, np.newaxis]\n",
    "\n",
    "plt.imshow(cm, cmap=plt.cm.Blues)\n",
    "plt.title('Normalized confusion matrix')\n",
    "plt.colorbar()\n",
    "plt.xlabel('True label')\n",
    "plt.ylabel('Predicted label')\n",
    "plt.xticks([0, 1]); plt.yticks([0, 1])\n",
    "plt.grid('off')\n",
    "for i, j in itertools.product(range(cm.shape[0]), range(cm.shape[1])):\n",
    "    plt.text(j, i, format(cm[i, j], '.2f'),\n",
    "             horizontalalignment='center',\n",
    "             color='white' if cm[i, j] > 0.5 else 'black')"
   ]
  }
 ],
 "metadata": {
  "kernelspec": {
   "display_name": "Python 3 (ipykernel)",
   "language": "python",
   "name": "python3"
  },
  "language_info": {
   "codemirror_mode": {
    "name": "ipython",
    "version": 3
   },
   "file_extension": ".py",
   "mimetype": "text/x-python",
   "name": "python",
   "nbconvert_exporter": "python",
   "pygments_lexer": "ipython3",
   "version": "3.7.16"
  }
 },
 "nbformat": 4,
 "nbformat_minor": 5
}
